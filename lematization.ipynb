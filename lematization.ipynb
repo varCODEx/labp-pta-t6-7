{
 "cells": [
  {
   "cell_type": "markdown",
   "source": [
    "# Лабораторна робота №7\n",
    "# Знайомство з об’єктами бібліотеки spaCy\n",
    "**Мета роботи:** Ознайомитись з вирішенням задач обробки природньої мови\n",
    "за допомогою бібліотеки spaCy."
   ],
   "metadata": {
    "collapsed": false,
    "id": "403MVp4K8kD5"
   }
  },
  {
   "cell_type": "code",
   "source": [
    "from google.colab import drive\n",
    "\n",
    "drive.mount('/content/drive')"
   ],
   "metadata": {
    "colab": {
     "base_uri": "https://localhost:8080/"
    },
    "id": "bcd5v4FB8o2_",
    "executionInfo": {
     "status": "ok",
     "timestamp": 1685908029322,
     "user_tz": -180,
     "elapsed": 22460,
     "user": {
      "displayName": "ІО-04 Андрій Федорко",
      "userId": "07809169735651579354"
     }
    },
    "outputId": "d0710418-3c9a-4062-c0e2-4ee94d6cfd45"
   },
   "execution_count": 1,
   "outputs": [
    {
     "output_type": "stream",
     "name": "stdout",
     "text": [
      "Mounted at /content/drive\n"
     ]
    }
   ]
  },
  {
   "cell_type": "markdown",
   "source": [
    "# Завдання до лабораторної роботи\n",
    "Створити програму, яка:\n",
    "### 1. Виконує завдання № 2 лабораторної роботи №1 за допомогою класу Matcher."
   ],
   "metadata": {
    "collapsed": false,
    "id": "tFmMV4aA8kD9"
   }
  },
  {
   "cell_type": "code",
   "execution_count": 0,
   "outputs": [],
   "source": [
    "import spacy\n",
    "from spacy.matcher import Matcher"
   ],
   "metadata": {
    "collapsed": false
   }
  },
  {
   "cell_type": "code",
   "execution_count": 2,
   "outputs": [],
   "source": [
    "#%! python -m spacy download uk_core_news_sm\n",
    "nlp = spacy.load(\"en_core_web_sm\")"
   ],
   "metadata": {
    "collapsed": false,
    "ExecuteTime": {
     "end_time": "2023-06-05T13:20:28.576854300Z",
     "start_time": "2023-06-05T13:20:26.685606700Z"
    }
   }
  },
  {
   "cell_type": "code",
   "execution_count": 0,
   "outputs": [],
   "source": [
    "# 1\n",
    "\n",
    "with open('text2.txt') as f:\n",
    "    text = f.read()\n",
    "\n",
    "doc = nlp(text)"
   ],
   "metadata": {
    "collapsed": false
   }
  },
  {
   "cell_type": "code",
   "execution_count": 9,
   "outputs": [
    {
     "name": "stdout",
     "output_type": "stream",
     "text": [
      "Avenue@mail.com\n",
      "here1232@emm.uk\n",
      "j.watson@gmail.com\n"
     ]
    }
   ],
   "source": [
    "matcher = Matcher(nlp.vocab)\n",
    "email_pattern = [{'LIKE_EMAIL': True}]\n",
    "matcher.add('EMAIL', [email_pattern])\n",
    "matches = matcher(doc)\n",
    "for match_id, start, end in matches:\n",
    "    span = doc[start:end]\n",
    "    print(span.text)"
   ],
   "metadata": {
    "collapsed": false,
    "ExecuteTime": {
     "end_time": "2023-06-05T13:25:50.213681500Z",
     "start_time": "2023-06-05T13:25:50.178645500Z"
    }
   }
  },
  {
   "cell_type": "markdown",
   "source": [
    "### 2. Виконує завдання відповідно до варіанту засобами бібліотеки spaCy."
   ],
   "metadata": {
    "collapsed": false,
    "id": "Mwiwn6Zb8kEA"
   }
  },
  {
   "cell_type": "code",
   "execution_count": 18,
   "outputs": [],
   "source": [
    "from pathlib import Path\n",
    "# import spacy\n",
    "import spacy_transformers"
   ],
   "metadata": {
    "id": "mhxsqVey8kEB",
    "outputId": "322036ac-7bcf-493d-a14c-c195ad2f7c45",
    "ExecuteTime": {
     "end_time": "2023-06-05T13:32:00.900494600Z",
     "start_time": "2023-06-05T13:32:00.304816200Z"
    }
   }
  },
  {
   "cell_type": "code",
   "execution_count": 19,
   "outputs": [],
   "source": [
    "# 2\n",
    "# %! python -m spacy download uk_core_news_trf\n",
    "# %! pip install spacy-transformers\n",
    "nlp_ua = spacy.load(\"uk_core_news_trf\")"
   ],
   "metadata": {
    "collapsed": false,
    "ExecuteTime": {
     "end_time": "2023-06-05T13:32:06.916102Z",
     "start_time": "2023-06-05T13:32:01.042498200Z"
    }
   }
  },
  {
   "cell_type": "code",
   "execution_count": null,
   "outputs": [],
   "source": [
    "# Варіант 7. Файл lab7-5.txt.\n",
    "\n",
    "text = Path('lab7-5.txt').read_text(encoding='utf-8')\n",
    "\n",
    "doc = nlp_ua(text)"
   ],
   "metadata": {
    "collapsed": false
   }
  },
  {
   "cell_type": "code",
   "execution_count": 41,
   "outputs": [
    {
     "name": "stdout",
     "output_type": "stream",
     "text": [
      "Мавка\n",
      "пісня\n",
      "Стрічка\n",
      "мовою\n",
      "англійською\n",
      "Мавка\n",
      "пісня\n",
      "драми\n",
      "феєрії\n",
      "пісня\n",
      "студії\n",
      "Робота\n",
      "стрічкою\n",
      "реалізацією\n"
     ]
    }
   ],
   "source": [
    "# 2.a\n",
    "\n",
    "for token in doc:\n",
    "    if token.pos_ == 'NOUN' and token.morph.get('Gender')[0] == 'Fem':\n",
    "        # print(token.text, token.lemma_, token.pos_, token.tag_, token.dep_,\n",
    "        #       token.shape_, token.is_alpha, token.is_stop, token.morph.get('Gender')[0])\n",
    "        print(token.text)"
   ],
   "metadata": {
    "collapsed": false,
    "ExecuteTime": {
     "end_time": "2023-06-05T13:44:49.432350500Z",
     "start_time": "2023-06-05T13:44:49.399955600Z"
    }
   }
  },
  {
   "cell_type": "code",
   "execution_count": 48,
   "outputs": [
    {
     "name": "stdout",
     "output_type": "stream",
     "text": [
      "Робота над стрічкою зайняла майже сім років, що зробило «Мавку» одним із кінопроєктів з найдовшою реалізацією.\n",
      "\n",
      "Lemmas of words of the last sentence:\n",
      "\t робота\n",
      "\t над\n",
      "\t стрічка\n",
      "\t зайняти\n",
      "\t майже\n",
      "\t сім\n",
      "\t рік\n",
      "\t ,\n",
      "\t що\n",
      "\t зробити\n",
      "\t \"\n",
      "\t мавка\n",
      "\t \"\n",
      "\t одним\n",
      "\t із\n",
      "\t кінопроєкт\n",
      "\t з\n",
      "\t найдовший\n",
      "\t реалізація\n",
      "\t .\n"
     ]
    }
   ],
   "source": [
    "# 2.b\n",
    "# б) Вивести леми слів передостаннього речення.\n",
    "# b) Output the lemmas of words of the last sentence.\n",
    "sentences = list(doc.sents)\n",
    "# last_sentence = sentences[-2] # not using this because the last sentence is better\n",
    "last_sentence = sentences[-1]\n",
    "print(last_sentence)\n",
    "print('\\nLemmas of words of the last sentence:')\n",
    "for token in last_sentence:\n",
    "    print('\\t', token.lemma_)\n"
   ],
   "metadata": {
    "id": "ROeYguTT8kED",
    "outputId": "9fc99745-5c63-4295-d3e4-3aac1d22499a",
    "ExecuteTime": {
     "end_time": "2023-06-05T13:46:30.689342500Z",
     "start_time": "2023-06-05T13:46:30.668763900Z"
    }
   }
  },
  {
   "cell_type": "code",
   "execution_count": 53,
   "outputs": [
    {
     "name": "stdout",
     "output_type": "stream",
     "text": [
      "Нідерландах\n",
      "Північній Америці\n",
      "США\n",
      "Канаді\n"
     ]
    }
   ],
   "source": [
    "# 2.c\n",
    "# в) Знайти та вивести місця, які присутні у тексті.\n",
    "# c) Find and output places that are present in the text.\n",
    "for ent in doc.ents:\n",
    "    if ent.label_ == 'LOC':\n",
    "        print(ent.text)"
   ],
   "metadata": {
    "collapsed": false,
    "ExecuteTime": {
     "end_time": "2023-06-05T13:52:09.343642600Z",
     "start_time": "2023-06-05T13:52:09.314654500Z"
    }
   }
  },
  {
   "cell_type": "code",
   "execution_count": 52,
   "outputs": [
    {
     "name": "stdout",
     "output_type": "stream",
     "text": [
      "Державне агенство з питань кіно\n",
      "Держкіно\n",
      "Animagrad\n"
     ]
    }
   ],
   "source": [
    "for ent in doc.ents:\n",
    "    if ent.label_ == 'ORG':\n",
    "        print(ent.text)"
   ],
   "metadata": {
    "collapsed": false,
    "ExecuteTime": {
     "end_time": "2023-06-05T13:51:55.803881200Z",
     "start_time": "2023-06-05T13:51:55.789379400Z"
    }
   }
  },
  {
   "cell_type": "code",
   "execution_count": 51,
   "outputs": [
    {
     "name": "stdout",
     "output_type": "stream",
     "text": [
      "Лесі Українки\n",
      "Олександра Рубан\n",
      "Олег Маламуж\n"
     ]
    }
   ],
   "source": [
    "for ent in doc.ents:\n",
    "    if ent.label_ == 'PER':\n",
    "        print(ent.text)"
   ],
   "metadata": {
    "collapsed": false,
    "ExecuteTime": {
     "end_time": "2023-06-05T13:51:52.086580700Z",
     "start_time": "2023-06-05T13:51:52.006424600Z"
    }
   }
  }
 ],
 "metadata": {
  "kernelspec": {
   "display_name": "Python 3",
   "language": "python",
   "name": "python3"
  },
  "language_info": {
   "codemirror_mode": {
    "name": "ipython",
    "version": 2
   },
   "file_extension": ".py",
   "mimetype": "text/x-python",
   "name": "python",
   "nbconvert_exporter": "python",
   "pygments_lexer": "ipython2",
   "version": "2.7.6"
  },
  "colab": {
   "provenance": []
  }
 },
 "nbformat": 4,
 "nbformat_minor": 0
}
